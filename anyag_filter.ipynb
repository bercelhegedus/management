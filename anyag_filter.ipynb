{
 "cells": [
  {
   "cell_type": "code",
   "execution_count": 61,
   "metadata": {},
   "outputs": [],
   "source": [
    "from tables import *\n",
    "import pandas as pd\n",
    "import numpy as np"
   ]
  },
  {
   "cell_type": "code",
   "execution_count": 62,
   "metadata": {},
   "outputs": [],
   "source": [
    "mod=Workbook.read_google_sheets_to_workbook('service_account.json','1IYJj1j9i0c_8W4PR_tVr7sf98cp9mznpCpSp-0ITbnI')"
   ]
  },
  {
   "cell_type": "code",
   "execution_count": 63,
   "metadata": {},
   "outputs": [],
   "source": [
    "anyag = mod.get_table('Anyag')"
   ]
  },
  {
   "cell_type": "code",
   "execution_count": 64,
   "metadata": {},
   "outputs": [],
   "source": [
    "anyag = anyag.data.groupby('Megnevezes')['Szorzo'].agg(['unique']).apply(lambda x: x.str.join(', ')).reset_index()"
   ]
  },
  {
   "cell_type": "code",
   "execution_count": 65,
   "metadata": {},
   "outputs": [
    {
     "name": "stdout",
     "output_type": "stream",
     "text": [
      "Warning: Overwriting existing table 'Anyag'\n"
     ]
    }
   ],
   "source": [
    "mod.add_table('Anyag', anyag)"
   ]
  },
  {
   "cell_type": "code",
   "execution_count": 66,
   "metadata": {},
   "outputs": [
    {
     "ename": "AttributeError",
     "evalue": "'AuthorizedHttp' object has no attribute '_auth'",
     "output_type": "error",
     "traceback": [
      "\u001b[1;31m---------------------------------------------------------------------------\u001b[0m",
      "\u001b[1;31mAttributeError\u001b[0m                            Traceback (most recent call last)",
      "Cell \u001b[1;32mIn[66], line 1\u001b[0m\n\u001b[1;32m----> 1\u001b[0m mod\u001b[39m.\u001b[39;49mwrite_to_google_sheets(\u001b[39m'\u001b[39;49m\u001b[39mservice_account.json\u001b[39;49m\u001b[39m'\u001b[39;49m,\u001b[39m'\u001b[39;49m\u001b[39m1IYJj1j9i0c_8W4PR_tVr7sf98cp9mznpCpSp-0ITbnI\u001b[39;49m\u001b[39m'\u001b[39;49m)\n",
      "File \u001b[1;32mc:\\Users\\berce\\programming\\Management\\tables.py:97\u001b[0m, in \u001b[0;36mWorkbook.write_to_google_sheets\u001b[1;34m(self, service_account_file, file_name)\u001b[0m\n\u001b[0;32m     95\u001b[0m \u001b[39mdef\u001b[39;00m \u001b[39mwrite_to_google_sheets\u001b[39m(\u001b[39mself\u001b[39m, service_account_file: \u001b[39mstr\u001b[39m, file_name: \u001b[39mstr\u001b[39m) \u001b[39m-\u001b[39m\u001b[39m>\u001b[39m \u001b[39mstr\u001b[39m:\n\u001b[0;32m     96\u001b[0m     sheets_service \u001b[39m=\u001b[39m _get_service(service_account_file)\n\u001b[1;32m---> 97\u001b[0m     drive_service \u001b[39m=\u001b[39m build(\u001b[39m'\u001b[39m\u001b[39mdrive\u001b[39m\u001b[39m'\u001b[39m, \u001b[39m'\u001b[39m\u001b[39mv3\u001b[39m\u001b[39m'\u001b[39m, credentials\u001b[39m=\u001b[39msheets_service\u001b[39m.\u001b[39;49m_http\u001b[39m.\u001b[39;49m_auth)\n\u001b[0;32m     99\u001b[0m     \u001b[39m# Create a new Google Sheets document\u001b[39;00m\n\u001b[0;32m    100\u001b[0m     file_metadata \u001b[39m=\u001b[39m {\n\u001b[0;32m    101\u001b[0m         \u001b[39m'\u001b[39m\u001b[39mname\u001b[39m\u001b[39m'\u001b[39m: file_name,\n\u001b[0;32m    102\u001b[0m         \u001b[39m'\u001b[39m\u001b[39mmimeType\u001b[39m\u001b[39m'\u001b[39m: \u001b[39m'\u001b[39m\u001b[39mapplication/vnd.google-apps.spreadsheet\u001b[39m\u001b[39m'\u001b[39m,\n\u001b[0;32m    103\u001b[0m     }\n",
      "\u001b[1;31mAttributeError\u001b[0m: 'AuthorizedHttp' object has no attribute '_auth'"
     ]
    }
   ],
   "source": [
    "mod.write_to_google_sheets('service_account.json','1IYJj1j9i0c_8W4PR_tVr7sf98cp9mznpCpSp-0ITbnI')"
   ]
  },
  {
   "cell_type": "code",
   "execution_count": 46,
   "metadata": {},
   "outputs": [],
   "source": [
    "test=Workbook.read_google_sheets_to_workbook('service_account.json','1LtCsUPBqGYpnEZXyKFFoaPaeFfe1CLU-O9wiTMGqJUE')"
   ]
  },
  {
   "cell_type": "code",
   "execution_count": 67,
   "metadata": {},
   "outputs": [
    {
     "ename": "AttributeError",
     "evalue": "'AuthorizedHttp' object has no attribute '_auth'",
     "output_type": "error",
     "traceback": [
      "\u001b[1;31m---------------------------------------------------------------------------\u001b[0m",
      "\u001b[1;31mAttributeError\u001b[0m                            Traceback (most recent call last)",
      "Cell \u001b[1;32mIn[67], line 1\u001b[0m\n\u001b[1;32m----> 1\u001b[0m test\u001b[39m.\u001b[39;49mwrite_to_google_sheets(\u001b[39m'\u001b[39;49m\u001b[39mservice_account.json\u001b[39;49m\u001b[39m'\u001b[39;49m,\u001b[39m'\u001b[39;49m\u001b[39m1LtCsUPBqGYpnEZXyKFFoaPaeFfe1CLU-O9wiTMGqJUE\u001b[39;49m\u001b[39m'\u001b[39;49m)\n",
      "File \u001b[1;32mc:\\Users\\berce\\programming\\Management\\tables.py:97\u001b[0m, in \u001b[0;36mWorkbook.write_to_google_sheets\u001b[1;34m(self, service_account_file, file_name)\u001b[0m\n\u001b[0;32m     95\u001b[0m \u001b[39mdef\u001b[39;00m \u001b[39mwrite_to_google_sheets\u001b[39m(\u001b[39mself\u001b[39m, service_account_file: \u001b[39mstr\u001b[39m, file_name: \u001b[39mstr\u001b[39m) \u001b[39m-\u001b[39m\u001b[39m>\u001b[39m \u001b[39mstr\u001b[39m:\n\u001b[0;32m     96\u001b[0m     sheets_service \u001b[39m=\u001b[39m _get_service(service_account_file)\n\u001b[1;32m---> 97\u001b[0m     drive_service \u001b[39m=\u001b[39m build(\u001b[39m'\u001b[39m\u001b[39mdrive\u001b[39m\u001b[39m'\u001b[39m, \u001b[39m'\u001b[39m\u001b[39mv3\u001b[39m\u001b[39m'\u001b[39m, credentials\u001b[39m=\u001b[39msheets_service\u001b[39m.\u001b[39;49m_http\u001b[39m.\u001b[39;49m_auth)\n\u001b[0;32m     99\u001b[0m     \u001b[39m# Create a new Google Sheets document\u001b[39;00m\n\u001b[0;32m    100\u001b[0m     file_metadata \u001b[39m=\u001b[39m {\n\u001b[0;32m    101\u001b[0m         \u001b[39m'\u001b[39m\u001b[39mname\u001b[39m\u001b[39m'\u001b[39m: file_name,\n\u001b[0;32m    102\u001b[0m         \u001b[39m'\u001b[39m\u001b[39mmimeType\u001b[39m\u001b[39m'\u001b[39m: \u001b[39m'\u001b[39m\u001b[39mapplication/vnd.google-apps.spreadsheet\u001b[39m\u001b[39m'\u001b[39m,\n\u001b[0;32m    103\u001b[0m     }\n",
      "\u001b[1;31mAttributeError\u001b[0m: 'AuthorizedHttp' object has no attribute '_auth'"
     ]
    }
   ],
   "source": [
    "test.write_to_google_sheets('service_account.json','1LtCsUPBqGYpnEZXyKFFoaPaeFfe1CLU-O9wiTMGqJUE')"
   ]
  },
  {
   "cell_type": "code",
   "execution_count": 3,
   "metadata": {},
   "outputs": [],
   "source": [
    "import pandas as pd\n",
    "def your_function():\n",
    "    df = pd.DataFrame({\n",
    "   'A': ['foo', 'bar', 'foo', 'bar', 'foo', 'bar', 'foo', 'foo'],\n",
    "   'B': ['one', 'one', 'two', 'three', 'two', 'two', 'one', 'three'],\n",
    "   'C': ['small', 'large', 'large', 'small', 'small', 'large', 'small', 'small'],\n",
    "   'D': [1, 2, 2, 3, 3, 4, 5, 6],\n",
    "   'E': [2, 4, 5, 5, 6, 6, 8, 9]\n",
    "    })\n",
    "    return df\n",
    "\n",
    "your_function().to_csv('test.csv', index=False)"
   ]
  },
  {
   "cell_type": "code",
   "execution_count": null,
   "metadata": {},
   "outputs": [],
   "source": []
  }
 ],
 "metadata": {
  "kernelspec": {
   "display_name": ".venv",
   "language": "python",
   "name": "python3"
  },
  "language_info": {
   "codemirror_mode": {
    "name": "ipython",
    "version": 3
   },
   "file_extension": ".py",
   "mimetype": "text/x-python",
   "name": "python",
   "nbconvert_exporter": "python",
   "pygments_lexer": "ipython3",
   "version": "3.9.13"
  },
  "orig_nbformat": 4
 },
 "nbformat": 4,
 "nbformat_minor": 2
}
