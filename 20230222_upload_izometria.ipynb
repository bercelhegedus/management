{
 "cells": [
  {
   "cell_type": "code",
   "execution_count": 13,
   "metadata": {},
   "outputs": [],
   "source": [
    "import pandas as pd\n",
    "import random\n",
    "import string\n",
    "import numpy as np"
   ]
  },
  {
   "cell_type": "code",
   "execution_count": 14,
   "metadata": {},
   "outputs": [
    {
     "data": {
      "text/html": [
       "<div>\n",
       "<style scoped>\n",
       "    .dataframe tbody tr th:only-of-type {\n",
       "        vertical-align: middle;\n",
       "    }\n",
       "\n",
       "    .dataframe tbody tr th {\n",
       "        vertical-align: top;\n",
       "    }\n",
       "\n",
       "    .dataframe thead th {\n",
       "        text-align: right;\n",
       "    }\n",
       "</style>\n",
       "<table border=\"1\" class=\"dataframe\">\n",
       "  <thead>\n",
       "    <tr style=\"text-align: right;\">\n",
       "      <th></th>\n",
       "      <th>Unnamed: 0</th>\n",
       "      <th>Alvállalkozó</th>\n",
       "      <th>Unit</th>\n",
       "      <th>rajzszám</th>\n",
       "      <th>Rev</th>\n",
       "      <th>izometria megnevezése</th>\n",
       "      <th>lap</th>\n",
       "      <th>lapok száma</th>\n",
       "    </tr>\n",
       "  </thead>\n",
       "  <tbody>\n",
       "    <tr>\n",
       "      <th>0</th>\n",
       "      <td>1.0</td>\n",
       "      <td>Privát Technoszer</td>\n",
       "      <td>10</td>\n",
       "      <td>P200007-100-EMPDIO-0001</td>\n",
       "      <td>3</td>\n",
       "      <td>FG6-100-003D-A</td>\n",
       "      <td>1</td>\n",
       "      <td>15</td>\n",
       "    </tr>\n",
       "    <tr>\n",
       "      <th>1</th>\n",
       "      <td>NaN</td>\n",
       "      <td>Privát Technoszer</td>\n",
       "      <td>10</td>\n",
       "      <td>P200007-100-EMPDIO-0001</td>\n",
       "      <td>4</td>\n",
       "      <td>FG6-100-003D-A</td>\n",
       "      <td>2</td>\n",
       "      <td>15</td>\n",
       "    </tr>\n",
       "    <tr>\n",
       "      <th>2</th>\n",
       "      <td>NaN</td>\n",
       "      <td>Privát Technoszer</td>\n",
       "      <td>10</td>\n",
       "      <td>P200007-100-EMPDIO-0001</td>\n",
       "      <td>5</td>\n",
       "      <td>FG6-100-003D-A</td>\n",
       "      <td>3</td>\n",
       "      <td>15</td>\n",
       "    </tr>\n",
       "    <tr>\n",
       "      <th>3</th>\n",
       "      <td>NaN</td>\n",
       "      <td>Privát Technoszer</td>\n",
       "      <td>10</td>\n",
       "      <td>P200007-100-EMPDIO-0001</td>\n",
       "      <td>6</td>\n",
       "      <td>FG6-100-003D-A</td>\n",
       "      <td>4</td>\n",
       "      <td>15</td>\n",
       "    </tr>\n",
       "    <tr>\n",
       "      <th>4</th>\n",
       "      <td>NaN</td>\n",
       "      <td>Privát Technoszer</td>\n",
       "      <td>10</td>\n",
       "      <td>P200007-100-EMPDIO-0001</td>\n",
       "      <td>7</td>\n",
       "      <td>FG6-100-003D-A</td>\n",
       "      <td>5</td>\n",
       "      <td>15</td>\n",
       "    </tr>\n",
       "  </tbody>\n",
       "</table>\n",
       "</div>"
      ],
      "text/plain": [
       "   Unnamed: 0       Alvállalkozó  Unit                 rajzszám  Rev  \\\n",
       "0         1.0  Privát Technoszer    10  P200007-100-EMPDIO-0001    3   \n",
       "1         NaN  Privát Technoszer    10  P200007-100-EMPDIO-0001    4   \n",
       "2         NaN  Privát Technoszer    10  P200007-100-EMPDIO-0001    5   \n",
       "3         NaN  Privát Technoszer    10  P200007-100-EMPDIO-0001    6   \n",
       "4         NaN  Privát Technoszer    10  P200007-100-EMPDIO-0001    7   \n",
       "\n",
       "  izometria megnevezése  lap  lapok száma  \n",
       "0        FG6-100-003D-A    1           15  \n",
       "1        FG6-100-003D-A    2           15  \n",
       "2        FG6-100-003D-A    3           15  \n",
       "3        FG6-100-003D-A    4           15  \n",
       "4        FG6-100-003D-A    5           15  "
      ]
     },
     "execution_count": 14,
     "metadata": {},
     "output_type": "execute_result"
    }
   ],
   "source": [
    "#read in Munka1 sheet from excel file\n",
    "df = pd.read_excel('Izometriak.xlsx', sheet_name='Munka1')\n",
    "\n",
    "df.head()\n",
    "\n",
    "def fix_rajszam(x):\n",
    "    x = x.split('-')\n",
    "    if len(x[-1]) == 3:\n",
    "        x[-1] = '0' + x[-1]\n",
    "    return '-'.join(x)\n",
    "\n",
    "df['rajzszám'] = df['rajzszám'].apply(fix_rajszam)\n",
    "\n",
    "df.head()"
   ]
  },
  {
   "cell_type": "code",
   "execution_count": 15,
   "metadata": {},
   "outputs": [
    {
     "data": {
      "text/html": [
       "<div>\n",
       "<style scoped>\n",
       "    .dataframe tbody tr th:only-of-type {\n",
       "        vertical-align: middle;\n",
       "    }\n",
       "\n",
       "    .dataframe tbody tr th {\n",
       "        vertical-align: top;\n",
       "    }\n",
       "\n",
       "    .dataframe thead th {\n",
       "        text-align: right;\n",
       "    }\n",
       "</style>\n",
       "<table border=\"1\" class=\"dataframe\">\n",
       "  <thead>\n",
       "    <tr style=\"text-align: right;\">\n",
       "      <th></th>\n",
       "      <th>Alvállalkozó</th>\n",
       "      <th>Unit</th>\n",
       "      <th>rajzszám</th>\n",
       "      <th>Rev</th>\n",
       "      <th>izometria megnevezése</th>\n",
       "      <th>lap</th>\n",
       "      <th>lapok száma</th>\n",
       "    </tr>\n",
       "  </thead>\n",
       "  <tbody>\n",
       "    <tr>\n",
       "      <th>0</th>\n",
       "      <td>Privát Technoszer</td>\n",
       "      <td>10</td>\n",
       "      <td>P200007-100-EMPDIO-0001</td>\n",
       "      <td>3</td>\n",
       "      <td>FG6-100-003D-A</td>\n",
       "      <td>1</td>\n",
       "      <td>15</td>\n",
       "    </tr>\n",
       "    <tr>\n",
       "      <th>1</th>\n",
       "      <td>Privát Technoszer</td>\n",
       "      <td>10</td>\n",
       "      <td>P200007-100-EMPDIO-0001</td>\n",
       "      <td>4</td>\n",
       "      <td>FG6-100-003D-A</td>\n",
       "      <td>2</td>\n",
       "      <td>15</td>\n",
       "    </tr>\n",
       "    <tr>\n",
       "      <th>2</th>\n",
       "      <td>Privát Technoszer</td>\n",
       "      <td>10</td>\n",
       "      <td>P200007-100-EMPDIO-0001</td>\n",
       "      <td>5</td>\n",
       "      <td>FG6-100-003D-A</td>\n",
       "      <td>3</td>\n",
       "      <td>15</td>\n",
       "    </tr>\n",
       "    <tr>\n",
       "      <th>3</th>\n",
       "      <td>Privát Technoszer</td>\n",
       "      <td>10</td>\n",
       "      <td>P200007-100-EMPDIO-0001</td>\n",
       "      <td>6</td>\n",
       "      <td>FG6-100-003D-A</td>\n",
       "      <td>4</td>\n",
       "      <td>15</td>\n",
       "    </tr>\n",
       "    <tr>\n",
       "      <th>4</th>\n",
       "      <td>Privát Technoszer</td>\n",
       "      <td>10</td>\n",
       "      <td>P200007-100-EMPDIO-0001</td>\n",
       "      <td>7</td>\n",
       "      <td>FG6-100-003D-A</td>\n",
       "      <td>5</td>\n",
       "      <td>15</td>\n",
       "    </tr>\n",
       "  </tbody>\n",
       "</table>\n",
       "</div>"
      ],
      "text/plain": [
       "        Alvállalkozó  Unit                 rajzszám  Rev  \\\n",
       "0  Privát Technoszer    10  P200007-100-EMPDIO-0001    3   \n",
       "1  Privát Technoszer    10  P200007-100-EMPDIO-0001    4   \n",
       "2  Privát Technoszer    10  P200007-100-EMPDIO-0001    5   \n",
       "3  Privát Technoszer    10  P200007-100-EMPDIO-0001    6   \n",
       "4  Privát Technoszer    10  P200007-100-EMPDIO-0001    7   \n",
       "\n",
       "  izometria megnevezése  lap  lapok száma  \n",
       "0        FG6-100-003D-A    1           15  \n",
       "1        FG6-100-003D-A    2           15  \n",
       "2        FG6-100-003D-A    3           15  \n",
       "3        FG6-100-003D-A    4           15  \n",
       "4        FG6-100-003D-A    5           15  "
      ]
     },
     "execution_count": 15,
     "metadata": {},
     "output_type": "execute_result"
    }
   ],
   "source": [
    "# drop the first Unnamed column\n",
    "df.drop(df.columns[0], axis=1, inplace=True)\n",
    "df.head()"
   ]
  },
  {
   "cell_type": "code",
   "execution_count": 16,
   "metadata": {},
   "outputs": [],
   "source": [
    "t = df[['rajzszám','Alvállalkozó']].groupby(['rajzszám']).agg({'Alvállalkozó': lambda x: x.unique().tolist()[0] if len(x.unique().tolist())==1 else ''}).reset_index()\n"
   ]
  },
  {
   "cell_type": "code",
   "execution_count": 17,
   "metadata": {},
   "outputs": [],
   "source": [
    "df.head()\n",
    "\n",
    "unique_df = df.groupby('rajzszám').agg({\n",
    "    'Alvállalkozó': lambda x: x.unique().tolist()[0] if len(x.unique().tolist())==1 else '',\n",
    "    'lapok száma': lambda x: x.unique().tolist()[0] if len(x.unique().tolist())==1 else '',\n",
    "    'Rev': lambda x: x.unique().tolist()[0] if len(x.unique().tolist())==1 else ''\n",
    "}).reset_index()\n"
   ]
  },
  {
   "cell_type": "code",
   "execution_count": 19,
   "metadata": {},
   "outputs": [],
   "source": [
    "unique_df.to_clipboard()"
   ]
  },
  {
   "cell_type": "code",
   "execution_count": 20,
   "metadata": {},
   "outputs": [
    {
     "ename": "NameError",
     "evalue": "name 'df2' is not defined",
     "output_type": "error",
     "traceback": [
      "\u001b[1;31m---------------------------------------------------------------------------\u001b[0m",
      "\u001b[1;31mNameError\u001b[0m                                 Traceback (most recent call last)",
      "Cell \u001b[1;32mIn [20], line 1\u001b[0m\n\u001b[1;32m----> 1\u001b[0m df2\u001b[39m.\u001b[39mhead()\n",
      "\u001b[1;31mNameError\u001b[0m: name 'df2' is not defined"
     ]
    }
   ],
   "source": [
    "df2.head()"
   ]
  },
  {
   "cell_type": "code",
   "execution_count": 21,
   "metadata": {},
   "outputs": [
    {
     "name": "stderr",
     "output_type": "stream",
     "text": [
      "C:\\Users\\berce\\AppData\\Local\\Temp\\ipykernel_32076\\3161007098.py:3: SettingWithCopyWarning: \n",
      "A value is trying to be set on a copy of a slice from a DataFrame.\n",
      "Try using .loc[row_indexer,col_indexer] = value instead\n",
      "\n",
      "See the caveats in the documentation: https://pandas.pydata.org/pandas-docs/stable/user_guide/indexing.html#returning-a-view-versus-a-copy\n",
      "  df3['random'] = df3['rajzszám'].apply(lambda x: ''.join(random.choices(string.ascii_lowercase + string.digits, k=8)))\n"
     ]
    }
   ],
   "source": [
    "df3=df[['rajzszám','lap','Alvállalkozó']]\n",
    "# add column with 8 random numbers/letters\n",
    "df3['random'] = df3['rajzszám'].apply(lambda x: ''.join(random.choices(string.ascii_lowercase + string.digits, k=8)))"
   ]
  },
  {
   "cell_type": "code",
   "execution_count": 22,
   "metadata": {},
   "outputs": [
    {
     "data": {
      "text/html": [
       "<div>\n",
       "<style scoped>\n",
       "    .dataframe tbody tr th:only-of-type {\n",
       "        vertical-align: middle;\n",
       "    }\n",
       "\n",
       "    .dataframe tbody tr th {\n",
       "        vertical-align: top;\n",
       "    }\n",
       "\n",
       "    .dataframe thead th {\n",
       "        text-align: right;\n",
       "    }\n",
       "</style>\n",
       "<table border=\"1\" class=\"dataframe\">\n",
       "  <thead>\n",
       "    <tr style=\"text-align: right;\">\n",
       "      <th></th>\n",
       "      <th>rajzszám</th>\n",
       "      <th>lap</th>\n",
       "      <th>Alvállalkozó</th>\n",
       "      <th>random</th>\n",
       "    </tr>\n",
       "  </thead>\n",
       "  <tbody>\n",
       "    <tr>\n",
       "      <th>0</th>\n",
       "      <td>P200007-100-EMPDIO-0001</td>\n",
       "      <td>1</td>\n",
       "      <td>Privát Technoszer</td>\n",
       "      <td>scxlnalo</td>\n",
       "    </tr>\n",
       "    <tr>\n",
       "      <th>1</th>\n",
       "      <td>P200007-100-EMPDIO-0001</td>\n",
       "      <td>2</td>\n",
       "      <td>Privát Technoszer</td>\n",
       "      <td>w35y3lpx</td>\n",
       "    </tr>\n",
       "    <tr>\n",
       "      <th>2</th>\n",
       "      <td>P200007-100-EMPDIO-0001</td>\n",
       "      <td>3</td>\n",
       "      <td>Privát Technoszer</td>\n",
       "      <td>1rau9af9</td>\n",
       "    </tr>\n",
       "    <tr>\n",
       "      <th>3</th>\n",
       "      <td>P200007-100-EMPDIO-0001</td>\n",
       "      <td>4</td>\n",
       "      <td>Privát Technoszer</td>\n",
       "      <td>f8dhqzrq</td>\n",
       "    </tr>\n",
       "    <tr>\n",
       "      <th>4</th>\n",
       "      <td>P200007-100-EMPDIO-0001</td>\n",
       "      <td>5</td>\n",
       "      <td>Privát Technoszer</td>\n",
       "      <td>k9ddemmc</td>\n",
       "    </tr>\n",
       "  </tbody>\n",
       "</table>\n",
       "</div>"
      ],
      "text/plain": [
       "                  rajzszám  lap       Alvállalkozó    random\n",
       "0  P200007-100-EMPDIO-0001    1  Privát Technoszer  scxlnalo\n",
       "1  P200007-100-EMPDIO-0001    2  Privát Technoszer  w35y3lpx\n",
       "2  P200007-100-EMPDIO-0001    3  Privát Technoszer  1rau9af9\n",
       "3  P200007-100-EMPDIO-0001    4  Privát Technoszer  f8dhqzrq\n",
       "4  P200007-100-EMPDIO-0001    5  Privát Technoszer  k9ddemmc"
      ]
     },
     "execution_count": 22,
     "metadata": {},
     "output_type": "execute_result"
    }
   ],
   "source": [
    "df3.head()"
   ]
  },
  {
   "cell_type": "code",
   "execution_count": 23,
   "metadata": {},
   "outputs": [],
   "source": [
    "df3.to_clipboard()"
   ]
  },
  {
   "cell_type": "code",
   "execution_count": null,
   "metadata": {},
   "outputs": [],
   "source": []
  }
 ],
 "metadata": {
  "kernelspec": {
   "display_name": ".venv",
   "language": "python",
   "name": "python3"
  },
  "language_info": {
   "codemirror_mode": {
    "name": "ipython",
    "version": 3
   },
   "file_extension": ".py",
   "mimetype": "text/x-python",
   "name": "python",
   "nbconvert_exporter": "python",
   "pygments_lexer": "ipython3",
   "version": "3.9.13"
  },
  "orig_nbformat": 4,
  "vscode": {
   "interpreter": {
    "hash": "e1f7cf4227d1279e3d96326e63b061c99a3c17e4575a5707fea29c58f64b9e7a"
   }
  }
 },
 "nbformat": 4,
 "nbformat_minor": 2
}
